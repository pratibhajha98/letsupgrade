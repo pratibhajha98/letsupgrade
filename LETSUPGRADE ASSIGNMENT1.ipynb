{
 "cells": [
  {
   "cell_type": "markdown",
   "metadata": {},
   "source": [
    "# y= (2x+5)/(x^2 + 5x + 6)"
   ]
  },
  {
   "cell_type": "code",
   "execution_count": 2,
   "metadata": {},
   "outputs": [
    {
     "name": "stdout",
     "output_type": "stream",
     "text": [
      "enter number:5\n",
      "Result is: 0.26785714285714285\n"
     ]
    }
   ],
   "source": [
    "x= int(input(\"enter number:\"))\n",
    "y= (2*x+5)/(x**2+5*x+6)\n",
    "print(\"Result is:\",y)"
   ]
  },
  {
   "cell_type": "code",
   "execution_count": 4,
   "metadata": {},
   "outputs": [
    {
     "name": "stdout",
     "output_type": "stream",
     "text": [
      "enter number:5\n",
      "Result is 3.7333333333333334\n"
     ]
    }
   ],
   "source": [
    "x=int(input(\"enter number:\"))\n",
    "y=(x**2+5*x+6)/(2*x+5)\n",
    "print(\"Result is\",y)"
   ]
  },
  {
   "cell_type": "code",
   "execution_count": 7,
   "metadata": {},
   "outputs": [
    {
     "name": "stdout",
     "output_type": "stream",
     "text": [
      "enter number:5\n",
      "Result is: 98\n"
     ]
    }
   ],
   "source": [
    "x=int(input(\"enter number:\"))\n",
    "y=(2*x-3)*(x+9)\n",
    "print(\"Result is:\",y)"
   ]
  },
  {
   "cell_type": "code",
   "execution_count": null,
   "metadata": {},
   "outputs": [],
   "source": []
  }
 ],
 "metadata": {
  "kernelspec": {
   "display_name": "Python 3",
   "language": "python",
   "name": "python3"
  },
  "language_info": {
   "codemirror_mode": {
    "name": "ipython",
    "version": 3
   },
   "file_extension": ".py",
   "mimetype": "text/x-python",
   "name": "python",
   "nbconvert_exporter": "python",
   "pygments_lexer": "ipython3",
   "version": "3.8.5"
  }
 },
 "nbformat": 4,
 "nbformat_minor": 4
}
